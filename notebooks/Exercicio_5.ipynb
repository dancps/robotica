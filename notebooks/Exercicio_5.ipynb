{
 "cells": [
  {
   "cell_type": "code",
   "execution_count": 110,
   "metadata": {},
   "outputs": [],
   "source": [
    "import numpy as np\n",
    "import pandas as pd\n",
    "def getElementarMatrix(a,alpha,d,theta):\n",
    "    c_theta = np.cos(theta)\n",
    "    s_theta = np.sin(theta)\n",
    "    c_alpha = np.cos(alpha)\n",
    "    s_alpha = np.sin(alpha)\n",
    "\n",
    "    matrix = np.array([\n",
    "        [c_theta,-s_theta*c_alpha,s_theta*s_alpha,a*c_theta],\n",
    "        [s_theta,c_theta*c_alpha,-c_theta*s_alpha,a*s_theta],\n",
    "        [0,s_alpha,c_alpha,d],\n",
    "        [0,0,0,1]\n",
    "    ])\n",
    "\n",
    "    return matrix\n",
    "\n",
    "def getConfiguration(dh_mat,convert=[''],verbose=True):\n",
    "    if(verbose): printDHmatrix(dh_mat)\n",
    "    if(len(convert)>0):\n",
    "        convertDHmatrix(dh_mat,types=convert)\n",
    "    \n",
    "    joints = dh_mat.shape[0]\n",
    "    if(verbose): print(\"+==== No. of joints: \",joints)\n",
    "    for joint,props in enumerate(dh_mat):\n",
    "        if(verbose): print(\"+== Joint {}: {}\".format(joint,props))\n",
    "        if(verbose): print(\"A_0{}:\\n{}\\n\".format(joint,getElementarMatrix(*np.asarray(props))))\n",
    "        if(len(convert)>0):\n",
    "            convertMatrix(dh_mat,types=convert)\n",
    "        \n",
    "def printDHmatrix(dh_matrix):\n",
    "    DF_mat = pd.DataFrame(dh_matrix, index=range(1,len(dh_matrix)+1), columns=[\"a\",\"alpha\",\"d\",\"theta\"])\n",
    "    print(DF_mat,\"\\n\")\n",
    "    \n",
    "def convertDHmatrix(dh_matrix,verbose=True,types=['latex', 'csv'],save=False):\n",
    "    if 'latex' in types:\n",
    "        DF_mat = pd.DataFrame(dh_matrix, index=range(1,len(dh_matrix)+1), columns=[\"a\",\"alpha\",\"d\",\"theta\"])\n",
    "        if(verbose): print(DF_mat.to_latex())\n",
    "    if 'csv' in types:\n",
    "        DF_mat = pd.DataFrame(dh_matrix, index=range(1,len(dh_matrix)+1), columns=[\"a\",\"alpha\",\"d\",\"theta\"])\n",
    "        if(verbose): print(DF_mat.to_csv())\n",
    "    if 'md' in types:\n",
    "        DF_mat = pd.DataFrame(dh_matrix)\n",
    "        if(verbose): print(DF_mat.to_markdown())\n",
    "            \n",
    "def convertMatrix(dh_matrix,verbose=True,types=['latex', 'csv'],save=False):\n",
    "    if 'latex' in types:\n",
    "        DF_mat = pd.DataFrame(dh_matrix)\n",
    "        if(verbose): print(DF_mat.to_latex())\n",
    "    if 'csv' in types:\n",
    "        DF_mat = pd.DataFrame(dh_matrix)\n",
    "        if(verbose): print(DF_mat.to_csv())\n",
    "    if 'md' in types:\n",
    "        DF_mat = pd.DataFrame(dh_matrix)\n",
    "        if(verbose): print(DF_mat.to_markdown())\n",
    "    #implement save mode"
   ]
  },
  {
   "cell_type": "code",
   "execution_count": 111,
   "metadata": {
    "scrolled": false
   },
   "outputs": [
    {
     "name": "stdout",
     "output_type": "stream",
     "text": [
      "   a  alpha    d  theta\n",
      "1  0    -90  450      0\n",
      "2  0     90  200     90\n",
      "3  0      0  350      0\n",
      "4  0    -90  150     90\n",
      "5  0    -90  100      0\n",
      "6  0      0   75      0 \n",
      "\n",
      "\\begin{tabular}{lrrrr}\n",
      "\\toprule\n",
      "{} &  a &  alpha &    d &  theta \\\\\n",
      "\\midrule\n",
      "1 &  0 &    -90 &  450 &      0 \\\\\n",
      "2 &  0 &     90 &  200 &     90 \\\\\n",
      "3 &  0 &      0 &  350 &      0 \\\\\n",
      "4 &  0 &    -90 &  150 &     90 \\\\\n",
      "5 &  0 &    -90 &  100 &      0 \\\\\n",
      "6 &  0 &      0 &   75 &      0 \\\\\n",
      "\\bottomrule\n",
      "\\end{tabular}\n",
      "\n"
     ]
    },
    {
     "ename": "AttributeError",
     "evalue": "'DataFrame' object has no attribute 'to_markdown'",
     "output_type": "error",
     "traceback": [
      "\u001b[0;31m---------------------------------------------------------------------------\u001b[0m",
      "\u001b[0;31mAttributeError\u001b[0m                            Traceback (most recent call last)",
      "\u001b[0;32m<ipython-input-111-e34fff5d7f98>\u001b[0m in \u001b[0;36m<module>\u001b[0;34m\u001b[0m\n\u001b[1;32m     26\u001b[0m \u001b[0;34m\u001b[0m\u001b[0m\n\u001b[1;32m     27\u001b[0m \u001b[0mdh_matrix\u001b[0m\u001b[0;34m=\u001b[0m \u001b[0mgetDHmatrix\u001b[0m\u001b[0;34m(\u001b[0m\u001b[0;34m**\u001b[0m\u001b[0mconfig_1\u001b[0m\u001b[0;34m)\u001b[0m\u001b[0;34m\u001b[0m\u001b[0m\n\u001b[0;32m---> 28\u001b[0;31m \u001b[0mconfigurations\u001b[0m \u001b[0;34m=\u001b[0m \u001b[0mgetConfiguration\u001b[0m\u001b[0;34m(\u001b[0m\u001b[0mdh_matrix\u001b[0m\u001b[0;34m,\u001b[0m\u001b[0mconvert\u001b[0m\u001b[0;34m=\u001b[0m\u001b[0;34m[\u001b[0m\u001b[0;34m'md'\u001b[0m\u001b[0;34m,\u001b[0m\u001b[0;34m'latex'\u001b[0m\u001b[0;34m]\u001b[0m\u001b[0;34m,\u001b[0m\u001b[0mverbose\u001b[0m\u001b[0;34m=\u001b[0m\u001b[0;32mTrue\u001b[0m\u001b[0;34m)\u001b[0m\u001b[0;34m\u001b[0m\u001b[0m\n\u001b[0m",
      "\u001b[0;32m<ipython-input-110-8070dd4c4dfe>\u001b[0m in \u001b[0;36mgetConfiguration\u001b[0;34m(dh_mat, convert, verbose)\u001b[0m\n\u001b[1;32m     19\u001b[0m     \u001b[0;32mif\u001b[0m\u001b[0;34m(\u001b[0m\u001b[0mverbose\u001b[0m\u001b[0;34m)\u001b[0m\u001b[0;34m:\u001b[0m \u001b[0mprintDHmatrix\u001b[0m\u001b[0;34m(\u001b[0m\u001b[0mdh_mat\u001b[0m\u001b[0;34m)\u001b[0m\u001b[0;34m\u001b[0m\u001b[0m\n\u001b[1;32m     20\u001b[0m     \u001b[0;32mif\u001b[0m\u001b[0;34m(\u001b[0m\u001b[0mlen\u001b[0m\u001b[0;34m(\u001b[0m\u001b[0mconvert\u001b[0m\u001b[0;34m)\u001b[0m\u001b[0;34m>\u001b[0m\u001b[0;36m0\u001b[0m\u001b[0;34m)\u001b[0m\u001b[0;34m:\u001b[0m\u001b[0;34m\u001b[0m\u001b[0m\n\u001b[0;32m---> 21\u001b[0;31m         \u001b[0mconvertDHmatrix\u001b[0m\u001b[0;34m(\u001b[0m\u001b[0mdh_mat\u001b[0m\u001b[0;34m,\u001b[0m\u001b[0mtypes\u001b[0m\u001b[0;34m=\u001b[0m\u001b[0mconvert\u001b[0m\u001b[0;34m)\u001b[0m\u001b[0;34m\u001b[0m\u001b[0m\n\u001b[0m\u001b[1;32m     22\u001b[0m \u001b[0;34m\u001b[0m\u001b[0m\n\u001b[1;32m     23\u001b[0m     \u001b[0mjoints\u001b[0m \u001b[0;34m=\u001b[0m \u001b[0mdh_mat\u001b[0m\u001b[0;34m.\u001b[0m\u001b[0mshape\u001b[0m\u001b[0;34m[\u001b[0m\u001b[0;36m0\u001b[0m\u001b[0;34m]\u001b[0m\u001b[0;34m\u001b[0m\u001b[0m\n",
      "\u001b[0;32m<ipython-input-110-8070dd4c4dfe>\u001b[0m in \u001b[0;36mconvertDHmatrix\u001b[0;34m(dh_matrix, verbose, types, save)\u001b[0m\n\u001b[1;32m     42\u001b[0m     \u001b[0;32mif\u001b[0m \u001b[0;34m'md'\u001b[0m \u001b[0;32min\u001b[0m \u001b[0mtypes\u001b[0m\u001b[0;34m:\u001b[0m\u001b[0;34m\u001b[0m\u001b[0m\n\u001b[1;32m     43\u001b[0m         \u001b[0mDF_mat\u001b[0m \u001b[0;34m=\u001b[0m \u001b[0mpd\u001b[0m\u001b[0;34m.\u001b[0m\u001b[0mDataFrame\u001b[0m\u001b[0;34m(\u001b[0m\u001b[0mdh_matrix\u001b[0m\u001b[0;34m)\u001b[0m\u001b[0;34m\u001b[0m\u001b[0m\n\u001b[0;32m---> 44\u001b[0;31m         \u001b[0;32mif\u001b[0m\u001b[0;34m(\u001b[0m\u001b[0mverbose\u001b[0m\u001b[0;34m)\u001b[0m\u001b[0;34m:\u001b[0m \u001b[0mprint\u001b[0m\u001b[0;34m(\u001b[0m\u001b[0mDF_mat\u001b[0m\u001b[0;34m.\u001b[0m\u001b[0mto_markdown\u001b[0m\u001b[0;34m(\u001b[0m\u001b[0;34m)\u001b[0m\u001b[0;34m)\u001b[0m\u001b[0;34m\u001b[0m\u001b[0m\n\u001b[0m\u001b[1;32m     45\u001b[0m \u001b[0;34m\u001b[0m\u001b[0m\n\u001b[1;32m     46\u001b[0m \u001b[0;32mdef\u001b[0m \u001b[0mconvertMatrix\u001b[0m\u001b[0;34m(\u001b[0m\u001b[0mdh_matrix\u001b[0m\u001b[0;34m,\u001b[0m\u001b[0mverbose\u001b[0m\u001b[0;34m=\u001b[0m\u001b[0;32mTrue\u001b[0m\u001b[0;34m,\u001b[0m\u001b[0mtypes\u001b[0m\u001b[0;34m=\u001b[0m\u001b[0;34m[\u001b[0m\u001b[0;34m'latex'\u001b[0m\u001b[0;34m,\u001b[0m \u001b[0;34m'csv'\u001b[0m\u001b[0;34m]\u001b[0m\u001b[0;34m,\u001b[0m\u001b[0msave\u001b[0m\u001b[0;34m=\u001b[0m\u001b[0;32mFalse\u001b[0m\u001b[0;34m)\u001b[0m\u001b[0;34m:\u001b[0m\u001b[0;34m\u001b[0m\u001b[0m\n",
      "\u001b[0;32m~/venvs/IBM/lib/python3.5/site-packages/pandas/core/generic.py\u001b[0m in \u001b[0;36m__getattr__\u001b[0;34m(self, name)\u001b[0m\n\u001b[1;32m   5177\u001b[0m             \u001b[0;32mif\u001b[0m \u001b[0mself\u001b[0m\u001b[0;34m.\u001b[0m\u001b[0m_info_axis\u001b[0m\u001b[0;34m.\u001b[0m\u001b[0m_can_hold_identifiers_and_holds_name\u001b[0m\u001b[0;34m(\u001b[0m\u001b[0mname\u001b[0m\u001b[0;34m)\u001b[0m\u001b[0;34m:\u001b[0m\u001b[0;34m\u001b[0m\u001b[0m\n\u001b[1;32m   5178\u001b[0m                 \u001b[0;32mreturn\u001b[0m \u001b[0mself\u001b[0m\u001b[0;34m[\u001b[0m\u001b[0mname\u001b[0m\u001b[0;34m]\u001b[0m\u001b[0;34m\u001b[0m\u001b[0m\n\u001b[0;32m-> 5179\u001b[0;31m             \u001b[0;32mreturn\u001b[0m \u001b[0mobject\u001b[0m\u001b[0;34m.\u001b[0m\u001b[0m__getattribute__\u001b[0m\u001b[0;34m(\u001b[0m\u001b[0mself\u001b[0m\u001b[0;34m,\u001b[0m \u001b[0mname\u001b[0m\u001b[0;34m)\u001b[0m\u001b[0;34m\u001b[0m\u001b[0m\n\u001b[0m\u001b[1;32m   5180\u001b[0m \u001b[0;34m\u001b[0m\u001b[0m\n\u001b[1;32m   5181\u001b[0m     \u001b[0;32mdef\u001b[0m \u001b[0m__setattr__\u001b[0m\u001b[0;34m(\u001b[0m\u001b[0mself\u001b[0m\u001b[0;34m,\u001b[0m \u001b[0mname\u001b[0m\u001b[0;34m,\u001b[0m \u001b[0mvalue\u001b[0m\u001b[0;34m)\u001b[0m\u001b[0;34m:\u001b[0m\u001b[0;34m\u001b[0m\u001b[0m\n",
      "\u001b[0;31mAttributeError\u001b[0m: 'DataFrame' object has no attribute 'to_markdown'"
     ]
    }
   ],
   "source": [
    "def getDHmatrix(theta_1=-45,\n",
    "                theta_2=0,\n",
    "                d_3=-100,\n",
    "                theta_4=-90,\n",
    "                theta_5=90,\n",
    "                theta_6=90):\n",
    "    dh_mat=np.array([\n",
    "        [0 , -90 , 450 , theta_1 ],\n",
    "        [0 , 90 , 200 , theta_2 ],\n",
    "        [0 , 0 , d_3 , 0 ],\n",
    "        [0 , -90 , 150 , theta_4 ],\n",
    "        [0 , -90 , 100 , theta_5 ],\n",
    "        [0 , 0 , 75 , theta_6 ]\n",
    "    ])\n",
    "    \n",
    "    return dh_mat\n",
    "    \n",
    "    \n",
    "\n",
    "config_1={\"theta_1\":0,\n",
    "          \"theta_2\":90,\n",
    "          \"d_3\":350,\n",
    "          \"theta_4\":90,\n",
    "          \"theta_5\":0,\n",
    "          \"theta_6\":0}\n",
    "\n",
    "dh_matrix= getDHmatrix(**config_1)\n",
    "configurations = getConfiguration(dh_matrix,convert=['md','latex'],verbose=True)"
   ]
  },
  {
   "cell_type": "markdown",
   "metadata": {},
   "source": []
  }
 ],
 "metadata": {
  "kernelspec": {
   "display_name": "Python 3",
   "language": "python",
   "name": "python3"
  },
  "language_info": {
   "codemirror_mode": {
    "name": "ipython",
    "version": 3
   },
   "file_extension": ".py",
   "mimetype": "text/x-python",
   "name": "python",
   "nbconvert_exporter": "python",
   "pygments_lexer": "ipython3",
   "version": "3.5.8"
  }
 },
 "nbformat": 4,
 "nbformat_minor": 4
}
