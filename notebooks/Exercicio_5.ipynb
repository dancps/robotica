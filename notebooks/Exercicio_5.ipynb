{
 "cells": [
  {
   "cell_type": "markdown",
   "metadata": {},
   "source": [
    "# Fundamentos de Robótica\n",
    "## Exercício 5\n",
    "### Danilo Calhes Paixão dos Santos - 11025215"
   ]
  },
  {
   "cell_type": "markdown",
   "metadata": {},
   "source": [
    "Foram definidos os eixos na configuração apresentada abaixo:"
   ]
  },
  {
   "cell_type": "markdown",
   "metadata": {},
   "source": [
    "<img src=./Exercicio_5/img/robo.jpg>\n",
    "<img src=./Exercicio_5/img/robo_eixos.jpg>"
   ]
  },
  {
   "cell_type": "markdown",
   "metadata": {},
   "source": [
    "Dessa maneira, determinou-se os seguintes parâmetros na tabela de Denavit-Hartenberg:\n",
    "\n",
    "|Junta| a | alpha | d   | theta |\n",
    "|---|---|-------|-----|-------|\n",
    "| 1 | 0 | -90   | 450 | $^*$$\\theta_1$     |\n",
    "| 2 | 0 | 90    | 200 | $^*$$\\theta_2$   |\n",
    "| 3 | 0 | 0     |  $^*$d$_3$ | 0     |\n",
    "| 4 | 0 | -90   | 150 | $^*$$\\theta_4$    |\n",
    "| 5 | 0 | -90   | 100 | $^*$$\\theta_5$     |\n",
    "| 6 | 0 | 0     | 75  | $^*$$\\theta_6$     |\n",
    "\n",
    "E dessa maneira, determina-se por meio da matriz homogênea($A^i_{i-1}$) as matrizes homogeneas relativas a configuração de juntas ($q$).\n",
    "\n",
    "$$q = \\begin{bmatrix}\n",
    "-45^\\mathrm{o}\\\\ \n",
    "0^\\mathrm{o}\\\\ \n",
    "-100mm\\\\ \n",
    "-90^\\mathrm{o}\\\\ \n",
    "90^\\mathrm{o}\\\\\n",
    "90^\\mathrm{o}\n",
    "\\end{bmatrix}$$\n",
    "\n",
    "$$A^i_{i-1} = Rot_z(\\theta)Trans_z(d)Trans_x(a)Rot_x(\\alpha)$$\n",
    "\n",
    "$$A^i_{i-1} = \\begin{bmatrix}\n",
    " c_{\\theta_i} & -s_{\\theta_i}c_{\\alpha_i} & s_{\\theta_i}s_{\\alpha_i} &  a_i c_{\\theta_i}\\\\ \n",
    " s_{\\theta_i} &  c_{\\theta_i}c_{\\alpha_i}& -c_{\\theta_i}s_{\\alpha_i} & a_i s_{\\theta_i}\\\\ \n",
    " 0 & s_{\\alpha_i} & c_{\\alpha_i} & d_i\\\\ \n",
    " 0 & 0  & 0 & 1\n",
    "\\end{bmatrix}$$\n",
    "\n",
    "Para determina-las, criam-se algumas funções:"
   ]
  },
  {
   "cell_type": "code",
   "execution_count": 10,
   "metadata": {},
   "outputs": [],
   "source": [
    "import numpy as np\n",
    "import pandas as pd\n",
    "import os\n",
    "def getElementarMatrix(a,alpha,d,theta):\n",
    "    c_theta = np.cos(np.radians(theta))\n",
    "    s_theta = np.sin(np.radians(theta))\n",
    "    c_alpha = np.cos(np.radians(alpha))\n",
    "    s_alpha = np.sin(np.radians(alpha))\n",
    "\n",
    "    matrix = np.array([\n",
    "        [c_theta,-s_theta*c_alpha,s_theta*s_alpha,a*c_theta],\n",
    "        [s_theta,c_theta*c_alpha,-c_theta*s_alpha,a*s_theta],\n",
    "        [0,s_alpha,c_alpha,d],\n",
    "        [0,0,0,1]\n",
    "    ])\n",
    "\n",
    "    return matrix\n",
    "\n",
    "def getConfiguration(dh_mat,folder='results',name='mat',convert=[''],verbose=True,save=False):\n",
    "    if(verbose): printDHmatrix(dh_mat)\n",
    "    if(len(convert)>0):\n",
    "        convertDHmatrix(dh_mat,folder=folder,name=name,types=convert,save=save)\n",
    "    \n",
    "    joints = dh_mat.shape[0]\n",
    "    if(verbose): print(\"+==== No. of joints: \",joints)\n",
    "    configs = []\n",
    "    for joint,props in enumerate(dh_mat):\n",
    "        if(verbose): print(\"+== Joint {}: {}\".format(joint+1,props))\n",
    "        if(verbose): print(\"A_0{}:\\n{}\\n\".format(joint+1,getElementarMatrix(*np.asarray(props))))\n",
    "        if(len(convert)>0):\n",
    "            convertMatrix(dh_mat,folder=folder,name=name+str(joint+1),types=convert,save=save)\n",
    "        configs.append({\"joint\":joint+1,\n",
    "                       \"matrix\":getElementarMatrix(*np.asarray(props))})\n",
    "    return configs\n",
    "        \n",
    "def printDHmatrix(dh_matrix):\n",
    "    DF_mat = pd.DataFrame(dh_matrix, index=range(1,len(dh_matrix)+1), columns=[\"a\",\"alpha\",\"d\",\"theta\"])\n",
    "    print(DF_mat,\"\\n\")\n",
    "    \n",
    "def convertDHmatrix(dh_matrix,verbose=False,types=['latex', 'csv'],folder=\"\",name=\"mat\",save=False):\n",
    "    if 'latex' in types:\n",
    "        DF_mat = pd.DataFrame(dh_matrix, index=range(1,len(dh_matrix)+1), columns=[\"a\",\"alpha\",\"d\",\"theta\"])\n",
    "        latex_output = DF_mat.to_latex()\n",
    "        if(verbose): print(latex_output)\n",
    "        if(save):\n",
    "            filename = open(os.path.join(\".\",folder,name+\"_DHmat.latex\"),'w')\n",
    "            filename.write(latex_output)\n",
    "            filename.close()\n",
    "        \n",
    "    if 'csv' in types:\n",
    "        DF_mat = pd.DataFrame(dh_matrix, index=range(1,len(dh_matrix)+1), columns=[\"a\",\"alpha\",\"d\",\"theta\"])\n",
    "        csv_output = DF_mat.to_csv()\n",
    "        if(verbose): print(csv_output)\n",
    "        if(save):\n",
    "            filename = open(os.path.join(\".\",folder,name+\"_DHmat.csv\"),'w')\n",
    "            filename.write(csv_output)\n",
    "            filename.close()\n",
    "   # Para python>=3.6.1 com pandas==1.0.1     \n",
    "   # if 'md' in types:\n",
    "        #DF_mat = pd.DataFrame(dh_matrix)\n",
    "        #if(verbose): print(DF_mat.to_markdown())\n",
    "            \n",
    "def convertMatrix(dh_matrix,verbose=False,types=['latex', 'csv'],folder=\"\",name=\"mat\",save=False):\n",
    "    if 'latex' in types:\n",
    "        DF_mat = pd.DataFrame(dh_matrix)\n",
    "        latex_output = DF_mat.to_latex()\n",
    "        if(verbose): print(latex_output)\n",
    "        if(save):\n",
    "            filename = open(os.path.join(\".\",folder,name+\"_mat.latex\"),'w')\n",
    "            filename.write(latex_output)\n",
    "            filename.close()\n",
    "        \n",
    "    if 'csv' in types:\n",
    "        DF_mat = pd.DataFrame(dh_matrix)\n",
    "        csv_output = DF_mat.to_csv(index=False,header=False) \n",
    "        if(verbose):  print(csv_output)\n",
    "        if(save):\n",
    "            filename = open(os.path.join(\".\",folder,name+\"_mat.csv\"),'w')\n",
    "            filename.write(csv_output)\n",
    "            filename.close()\n",
    "    # Para python>=3.6.1 com pandas==1.0.1    \n",
    "    #if 'md' in types:\n",
    "        #DF_mat = pd.DataFrame(dh_matrix)\n",
    "        #if(verbose): print(DF_mat.to_markdown())"
   ]
  },
  {
   "cell_type": "markdown",
   "metadata": {},
   "source": [
    "Após criadas as funções, utiliza-se para determinar a configuração de cada uma das articulações:"
   ]
  },
  {
   "cell_type": "code",
   "execution_count": 11,
   "metadata": {
    "scrolled": false
   },
   "outputs": [
    {
     "name": "stdout",
     "output_type": "stream",
     "text": [
      "     a  alpha      d  theta\n",
      "1  0.0  -90.0  450.0  -45.0\n",
      "2  0.0   90.0  200.0    0.0\n",
      "3  0.0    0.0 -100.0    0.0\n",
      "4  0.0  -90.0  150.0  -90.0\n",
      "5  0.0  -90.0  100.0   90.0\n",
      "6  0.0    0.0   75.0   90.0 \n",
      "\n",
      "+==== No. of joints:  6\n",
      "+== Joint 1: [  0. -90. 450. -45.]\n",
      "A_01:\n",
      "[[ 7.07106781e-01  4.32978028e-17  7.07106781e-01  0.00000000e+00]\n",
      " [-7.07106781e-01  4.32978028e-17  7.07106781e-01 -0.00000000e+00]\n",
      " [ 0.00000000e+00 -1.00000000e+00  6.12323400e-17  4.50000000e+02]\n",
      " [ 0.00000000e+00  0.00000000e+00  0.00000000e+00  1.00000000e+00]]\n",
      "\n",
      "+== Joint 2: [  0.  90. 200.   0.]\n",
      "A_02:\n",
      "[[ 1.000000e+00 -0.000000e+00  0.000000e+00  0.000000e+00]\n",
      " [ 0.000000e+00  6.123234e-17 -1.000000e+00  0.000000e+00]\n",
      " [ 0.000000e+00  1.000000e+00  6.123234e-17  2.000000e+02]\n",
      " [ 0.000000e+00  0.000000e+00  0.000000e+00  1.000000e+00]]\n",
      "\n",
      "+== Joint 3: [   0.    0. -100.    0.]\n",
      "A_03:\n",
      "[[   1.   -0.    0.    0.]\n",
      " [   0.    1.   -0.    0.]\n",
      " [   0.    0.    1. -100.]\n",
      " [   0.    0.    0.    1.]]\n",
      "\n",
      "+== Joint 4: [  0. -90. 150. -90.]\n",
      "A_04:\n",
      "[[ 6.12323400e-17  6.12323400e-17  1.00000000e+00  0.00000000e+00]\n",
      " [-1.00000000e+00  3.74939946e-33  6.12323400e-17 -0.00000000e+00]\n",
      " [ 0.00000000e+00 -1.00000000e+00  6.12323400e-17  1.50000000e+02]\n",
      " [ 0.00000000e+00  0.00000000e+00  0.00000000e+00  1.00000000e+00]]\n",
      "\n",
      "+== Joint 5: [  0. -90. 100.  90.]\n",
      "A_05:\n",
      "[[ 6.12323400e-17 -6.12323400e-17 -1.00000000e+00  0.00000000e+00]\n",
      " [ 1.00000000e+00  3.74939946e-33  6.12323400e-17  0.00000000e+00]\n",
      " [ 0.00000000e+00 -1.00000000e+00  6.12323400e-17  1.00000000e+02]\n",
      " [ 0.00000000e+00  0.00000000e+00  0.00000000e+00  1.00000000e+00]]\n",
      "\n",
      "+== Joint 6: [ 0.  0. 75. 90.]\n",
      "A_06:\n",
      "[[ 6.123234e-17 -1.000000e+00  0.000000e+00  0.000000e+00]\n",
      " [ 1.000000e+00  6.123234e-17 -0.000000e+00  0.000000e+00]\n",
      " [ 0.000000e+00  0.000000e+00  1.000000e+00  7.500000e+01]\n",
      " [ 0.000000e+00  0.000000e+00  0.000000e+00  1.000000e+00]]\n",
      "\n"
     ]
    }
   ],
   "source": [
    "def getDHmatrix(theta_1=-45,\n",
    "                theta_2=0,\n",
    "                d_3=-100,\n",
    "                theta_4=-90,\n",
    "                theta_5=90,\n",
    "                theta_6=90):\n",
    "    dh_mat=np.array([\n",
    "        [0 , -90 , 450 , theta_1 ],\n",
    "        [0 , 90 , 200 , theta_2 ],\n",
    "        [0 , 0 , d_3 , 0 ],\n",
    "        [0 , -90 , 150 , theta_4 ],\n",
    "        [0 , -90 , 100 , theta_5 ],\n",
    "        [0 , 0 , 75 , theta_6 ]\n",
    "    ])\n",
    "    \n",
    "    return dh_mat\n",
    "    \n",
    "    \n",
    "\n",
    "config_1={\"theta_1\":-45.,\n",
    "          \"theta_2\":0.,\n",
    "          \"d_3\":-100.,\n",
    "          \"theta_4\":-90.,\n",
    "          \"theta_5\":90.,\n",
    "          \"theta_6\":90.}\n",
    "\n",
    "dh_matrix= getDHmatrix(**config_1)\n",
    "configurations = getConfiguration(dh_matrix,folder=\"Exercicio_5/results/\", convert=['latex','csv'],save=True,verbose=True)"
   ]
  },
  {
   "cell_type": "markdown",
   "metadata": {},
   "source": [
    "Por fim, a configuração é dada pela matriz:\n",
    "\n",
    "$$A^6_{0} = \\begin{bmatrix}\n",
    " 0 & 1 & 0 &  0\\\\ \n",
    " 1 & 0 & 0 & 0\\\\ \n",
    " 0 & 0 & 1 & 75.\\\\ \n",
    " 0 & 0  & 0 & 1\n",
    "\\end{bmatrix}$$"
   ]
  },
  {
   "cell_type": "markdown",
   "metadata": {},
   "source": [
    "### Errata (27/03)\n",
    "O primeiro erro se deu na definição da matriz elementar. Ao passar como argumento para a função criada, o argumento foi passado em graus, onde deveria ser passado em radianos:"
   ]
  },
  {
   "cell_type": "code",
   "execution_count": null,
   "metadata": {},
   "outputs": [],
   "source": [
    "(...)\n",
    "def getElementarMatrix(a,alpha,d,theta):\n",
    "    c_theta = np.cos(theta)\n",
    "    s_theta = np.sin(theta)\n",
    "    c_alpha = np.cos(alpha)\n",
    "    s_alpha = np.sin(alpha)\n",
    "(...)"
   ]
  },
  {
   "cell_type": "markdown",
   "metadata": {},
   "source": [
    "Dessa maneira corrigiu-se o padrão da função para graus:"
   ]
  },
  {
   "cell_type": "code",
   "execution_count": null,
   "metadata": {},
   "outputs": [],
   "source": [
    "(...)\n",
    "def getElementarMatrix(a,alpha,d,theta):\n",
    "    c_theta = np.cos(np.radians(theta))\n",
    "    s_theta = np.sin(np.radians(theta))\n",
    "    c_alpha = np.cos(np.radians(alpha))\n",
    "    s_alpha = np.sin(np.radians(alpha))\n",
    "(...)"
   ]
  },
  {
   "cell_type": "markdown",
   "metadata": {},
   "source": [
    "Além disso, a solução obtida no exercício apresentava apenas as matrizes de transformação e não a matriz homogenea do efetuador, dessa maneira adiciona-se uma etapa extra:"
   ]
  },
  {
   "cell_type": "code",
   "execution_count": 14,
   "metadata": {},
   "outputs": [
    {
     "name": "stdout",
     "output_type": "stream",
     "text": [
      "++ Junta  1\n",
      "[[  0.7071   0.       0.7071   0.    ]\n",
      " [ -0.7071   0.       0.7071   0.    ]\n",
      " [  0.      -1.       0.     450.    ]\n",
      " [  0.       0.       0.       1.    ]]\n",
      "++ Junta  2\n",
      "[[  0.7071   0.7071   0.     141.4214]\n",
      " [ -0.7071   0.7071  -0.     141.4214]\n",
      " [  0.       0.       1.     450.    ]\n",
      " [  0.       0.       0.       1.    ]]\n",
      "++ Junta  3\n",
      "[[  0.7071   0.7071   0.     141.4214]\n",
      " [ -0.7071   0.7071  -0.     141.4214]\n",
      " [  0.       0.       1.     350.    ]\n",
      " [  0.       0.       0.       1.    ]]\n",
      "++ Junta  4\n",
      "[[ -0.7071   0.       0.7071 141.4214]\n",
      " [ -0.7071  -0.      -0.7071 141.4214]\n",
      " [  0.      -1.       0.     500.    ]\n",
      " [  0.       0.       0.       1.    ]]\n",
      "++ Junta  5\n",
      "[[  0.      -0.7071   0.7071 212.132 ]\n",
      " [ -0.       0.7071   0.7071  70.7107]\n",
      " [ -1.      -0.      -0.     500.    ]\n",
      " [  0.       0.       0.       1.    ]]\n",
      "++ Junta  6\n",
      "[[ -0.7071  -0.       0.7071 265.165 ]\n",
      " [  0.7071   0.       0.7071 123.7437]\n",
      " [ -0.       1.      -0.     500.    ]\n",
      " [  0.       0.       0.       1.    ]]\n"
     ]
    }
   ],
   "source": [
    "homogen = np.identity(4) #inicializa a matriz identidade\n",
    "\n",
    "for config in configurations:\n",
    "    print(\"++ Junta \",config['joint'])\n",
    "    homogen = homogen@config['matrix']\n",
    "    with np.printoptions(precision=4, suppress=True):\n",
    "        print(homogen)"
   ]
  },
  {
   "cell_type": "markdown",
   "metadata": {},
   "source": [
    "Por fim a matriz homogênea que define a configuração da garra é dada por\n",
    "$$H^6_{0} = \\begin{bmatrix}\n",
    " -0.707 & 0 & 0.707 &  265.165\\\\ \n",
    " 0.707 & 0 &  0.707 & 123.744\\\\ \n",
    " 0 & 1. & 0 & 500.\\\\ \n",
    " 0 & 0  & 0 & 1\n",
    "\\end{bmatrix}$$"
   ]
  }
 ],
 "metadata": {
  "kernelspec": {
   "display_name": "Python 3",
   "language": "python",
   "name": "python3"
  },
  "language_info": {
   "codemirror_mode": {
    "name": "ipython",
    "version": 3
   },
   "file_extension": ".py",
   "mimetype": "text/x-python",
   "name": "python",
   "nbconvert_exporter": "python",
   "pygments_lexer": "ipython3",
   "version": "3.5.9"
  }
 },
 "nbformat": 4,
 "nbformat_minor": 4
}
