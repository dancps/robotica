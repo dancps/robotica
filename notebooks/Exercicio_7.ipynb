{
 "cells": [
  {
   "cell_type": "markdown",
   "metadata": {},
   "source": [
    "# Fundamentos de Robótica\n",
    "## Exercício 7\n",
    "### Danilo Calhes Paixão dos Santos - 11025215\n",
    "\n",
    "Para o sétimo exercício, podemos iniciar a modelagem do problema por meio do Exercício 1 presente nos slides da [aula 5](https://drive.google.com/file/d/1v4PbbCAe42oTv72AwB6EN4Gj01qhHU-V/view), visto que a estrutura do robo é semelhante à presente no Exercício 3. "
   ]
  },
  {
   "cell_type": "markdown",
   "metadata": {},
   "source": [
    "## Exercicio 1\n",
    "O robô é definido pela estrutura abaixo.\n",
    "<img src=./Exercicio_7/img/ex1.png>\n",
    "Ao obter as equações do ponto $x$ e $y$ do robô, obtemos as seguintes equações:\n",
    "$$x = a_1 \\cos(\\theta_1)+a_2 \\cos(\\theta_1+\\theta_2)$$\n",
    "$$y = a_1 \\sin(\\theta_1)+a_2 \\sin(\\theta_1+\\theta_2)$$\n",
    "Por meio de algumas transformações, obtemos então as seguintes equações para as soluções de variáveis de junta:\n",
    "$$\\theta_1 = \\arctan\\left(\\frac{y(a_1 + a_2\\cos{\\theta_2}) - x\\cdot a_2\\sin{\\theta_2}}{x(a_1 + a_2\\cos\\theta_2) + y\\cdot a_2\\sin\\theta_2} \\right)$$\n",
    "$$\\theta_2 =\\pm\\arccos\\left(\\frac{x^2+y^2-a_1^2-a_2^2}{2a_1a_2}\\right)$$\n",
    "Dessa maneira, podemos definir funções em Python com o auxilio da biblioteca _numpy_ que calculam estas soluções com base nos parâmetros determinados:"
   ]
  },
  {
   "cell_type": "code",
   "execution_count": 1,
   "metadata": {},
   "outputs": [],
   "source": [
    "import numpy as np\n",
    "def getTheta1(x,y,a1=1,a2=1,theta2=0):\n",
    "    u = y*(a1 + a2*np.cos(theta2)) - x*a2*np.sin(theta2)\n",
    "    d = x*(a1 + a2*np.cos(theta2)) + y*a2*np.sin(theta2)\n",
    "    theta1 = np.arctan(u/d)\n",
    "    return theta1\n",
    "\n",
    "def getTheta2(x,y,a1=1,a2=1):\n",
    "    u = np.square(x)+np.square(y)-np.square(a1)-np.square(a2)\n",
    "    d = 2.*a1*a2\n",
    "    theta2 = np.arccos(u/d)\n",
    "    return [+theta2,-theta2]\n",
    "\n",
    "def getThetas(x,y,a1=1,a2=1,unit='deg'):\n",
    "    values = []\n",
    "    theta2 = getTheta2(x,y,a1,a2)\n",
    "    for tht2 in theta2:\n",
    "        tht1 = getTheta1(x,y,a1,a2,tht2)\n",
    "        if(unit=='rad'): values.append({\"theta_1\":tht1,\"theta_2\":tht2})\n",
    "        else: values.append({\"theta_1\":np.degrees(tht1),\"theta_2\":np.degrees(tht2)})\n",
    "    return values"
   ]
  },
  {
   "cell_type": "markdown",
   "metadata": {},
   "source": [
    "Definimos também a tabela de Denavit-Hartenberg, que se apresenta a seguir:\n",
    "\n",
    "|Junta| a | $\\alpha$ | d   | $\\theta$ |\n",
    "|---|---|-------|-----|-------|\n",
    "| 1 | $a_1$ | 0   | 0 | $^*$$\\theta_1$     |\n",
    "| 2 | $a_2$ | 0    | 0 | $^*$$\\theta_2$   |\n",
    "\n",
    "### Item A\n",
    "Para o **item a** a tabela de Denavit-Hartenberg é posta da seguinte maneira:\n",
    "\n",
    "|Junta| a | $\\alpha$ | d   | $\\theta$ |\n",
    "|---|---|-------|-----|-------|\n",
    "| 1 | 1 | 0   | 0 | $^*$$\\theta_1$     |\n",
    "| 2 | 1 | 0    | 0 | $^*$$\\theta_2$   |\n",
    "\n",
    "Por meio das bibliotecas desenvolvidas para a Atividade 5, podemos obter as matrizes de transformação $A^i_{i-1}$:\n",
    "$$A^i_{i-1} = Rot_z(\\theta)Trans_z(d)Trans_x(a)Rot_x(\\alpha)$$\n",
    "\n",
    "$$A^i_{i-1} = \\begin{bmatrix}\n",
    " c_{\\theta_i} & -s_{\\theta_i}c_{\\alpha_i} & s_{\\theta_i}s_{\\alpha_i} &  a_i c_{\\theta_i}\\\\ \n",
    " s_{\\theta_i} &  c_{\\theta_i}c_{\\alpha_i}& -c_{\\theta_i}s_{\\alpha_i} & a_i s_{\\theta_i}\\\\ \n",
    " 0 & s_{\\alpha_i} & c_{\\alpha_i} & d_i\\\\ \n",
    " 0 & 0  & 0 & 1\n",
    "\\end{bmatrix}$$"
   ]
  },
  {
   "cell_type": "code",
   "execution_count": 2,
   "metadata": {},
   "outputs": [
    {
     "name": "stderr",
     "output_type": "stream",
     "text": [
      "/home/dancps/Documents/UFABC/15quad/Fundamentos de Robotica/.venvs/robot/lib/python3.5/site-packages/pandas/compat/__init__.py:85: UserWarning: Could not import the lzma module. Your installed Python is incomplete. Attempting to use lzma compression will result in a RuntimeError.\n",
      "  warnings.warn(msg)\n",
      "/home/dancps/Documents/UFABC/15quad/Fundamentos de Robotica/.venvs/robot/lib/python3.5/site-packages/pandas/compat/__init__.py:85: UserWarning: Could not import the lzma module. Your installed Python is incomplete. Attempting to use lzma compression will result in a RuntimeError.\n",
      "  warnings.warn(msg)\n"
     ]
    }
   ],
   "source": [
    "import numpy as np\n",
    "import pandas as pd\n",
    "import os\n",
    "def getElementarMatrix(a,alpha,d,theta):\n",
    "    c_theta = np.cos(np.radians(theta))\n",
    "    s_theta = np.sin(np.radians(theta))\n",
    "    c_alpha = np.cos(np.radians(alpha))\n",
    "    s_alpha = np.sin(np.radians(alpha))\n",
    "\n",
    "    matrix = np.array([\n",
    "        [c_theta,-s_theta*c_alpha,s_theta*s_alpha,a*c_theta],\n",
    "        [s_theta,c_theta*c_alpha,-c_theta*s_alpha,a*s_theta],\n",
    "        [0,s_alpha,c_alpha,d],\n",
    "        [0,0,0,1]\n",
    "    ])\n",
    "    return matrix\n",
    "\n",
    "def getConfiguration(dh_mat,folder='results',name='mat',convert=[''],verbose=False,save=False):\n",
    "    if(verbose): printDHmatrix(dh_mat)\n",
    "    if(len(convert)>0):\n",
    "        convertDHmatrix(dh_mat,folder=folder,name=name,types=convert,save=save)\n",
    "    \n",
    "    joints = dh_mat.shape[0]\n",
    "    if(verbose): print(\"+==== No. of joints: \",joints)\n",
    "    configs = []\n",
    "    for joint,props in enumerate(dh_mat):\n",
    "        if(verbose): print(\"+== Joint {}: {}\".format(joint+1,props))\n",
    "        if(verbose): print(\"A_0{}:\\n{}\\n\".format(joint+1,getElementarMatrix(*np.asarray(props))))\n",
    "        if(len(convert)>0):\n",
    "            convertMatrix(dh_mat,folder=folder,name=name+str(joint+1),types=convert,save=save)\n",
    "        configs.append({\"joint\":joint+1,\n",
    "                       \"matrix\":getElementarMatrix(*np.asarray(props))})\n",
    "    return configs\n",
    "\n",
    "def printDHmatrix(dh_matrix):\n",
    "    DF_mat = pd.DataFrame(dh_matrix, index=range(1,len(dh_matrix)+1), columns=[\"a\",\"alpha\",\"d\",\"theta\"])\n",
    "    print(DF_mat,\"\\n\")\n",
    "    \n",
    "def convertDHmatrix(dh_matrix,verbose=False,types=['latex', 'csv'],folder=\"\",name=\"mat\",save=False):\n",
    "    if 'latex' in types:\n",
    "        DF_mat = pd.DataFrame(dh_matrix, index=range(1,len(dh_matrix)+1), columns=[\"a\",\"alpha\",\"d\",\"theta\"])\n",
    "        latex_output = DF_mat.to_latex()\n",
    "        if(verbose): print(latex_output)\n",
    "        if(save):\n",
    "            filename = open(os.path.join(\".\",folder,name+\"_DHmat.latex\"),'w')\n",
    "            filename.write(latex_output)\n",
    "            filename.close()\n",
    "        \n",
    "    if 'csv' in types:\n",
    "        DF_mat = pd.DataFrame(dh_matrix, index=range(1,len(dh_matrix)+1), columns=[\"a\",\"alpha\",\"d\",\"theta\"])\n",
    "        csv_output = DF_mat.to_csv()\n",
    "        if(verbose): print(csv_output)\n",
    "        if(save):\n",
    "            filename = open(os.path.join(\".\",folder,name+\"_DHmat.csv\"),'w')\n",
    "            filename.write(csv_output)\n",
    "            filename.close()\n",
    "   # Para python>=3.6.1 com pandas==1.0.1     \n",
    "   # if 'md' in types:\n",
    "        #DF_mat = pd.DataFrame(dh_matrix)\n",
    "        #if(verbose): print(DF_mat.to_markdown())\n",
    "            \n",
    "def convertMatrix(dh_matrix,verbose=False,types=['latex', 'csv'],folder=\"\",name=\"mat\",save=False):\n",
    "    if 'latex' in types:\n",
    "        DF_mat = pd.DataFrame(dh_matrix)\n",
    "        latex_output = DF_mat.to_latex()\n",
    "        if(verbose): print(latex_output)\n",
    "        if(save):\n",
    "            filename = open(os.path.join(\".\",folder,name+\"_mat.latex\"),'w')\n",
    "            filename.write(latex_output)\n",
    "            filename.close()\n",
    "        \n",
    "    if 'csv' in types:\n",
    "        DF_mat = pd.DataFrame(dh_matrix)\n",
    "        csv_output = DF_mat.to_csv(index=False,header=False) \n",
    "        if(verbose):  print(csv_output)\n",
    "        if(save):\n",
    "            filename = open(os.path.join(\".\",folder,name+\"_mat.csv\"),'w')\n",
    "            filename.write(csv_output)\n",
    "            filename.close()\n",
    "    # Para python>=3.6.1 com pandas==1.0.1    \n",
    "    #if 'md' in types:\n",
    "        #DF_mat = pd.DataFrame(dh_matrix)\n",
    "        #if(verbose): print(DF_mat.to_markdown())"
   ]
  },
  {
   "cell_type": "markdown",
   "metadata": {},
   "source": [
    "Configurando a tabela de Denavit-Hartenberg para o problema específico temos:"
   ]
  },
  {
   "cell_type": "code",
   "execution_count": 3,
   "metadata": {},
   "outputs": [],
   "source": [
    "def getDHmatrix(theta_1=-45,\n",
    "                theta_2=0):\n",
    "    dh_mat=np.array([\n",
    "        [ 1 , 0 , 0 , theta_1 ],\n",
    "        [ 1 , 0 , 0 , theta_2 ]\n",
    "    ])\n",
    "    \n",
    "    return dh_mat"
   ]
  },
  {
   "cell_type": "markdown",
   "metadata": {},
   "source": [
    "Testamos assim para as variáveis de junta $\\theta_1 = 0^\\mathrm{o}$ e $\\theta_2 = 0^\\mathrm{o}$:"
   ]
  },
  {
   "cell_type": "code",
   "execution_count": 4,
   "metadata": {},
   "outputs": [
    {
     "name": "stdout",
     "output_type": "stream",
     "text": [
      "++ Matriz homogenea 0\n",
      "[[1. 0. 0. 0.]\n",
      " [0. 1. 0. 0.]\n",
      " [0. 0. 1. 0.]\n",
      " [0. 0. 0. 1.]]\n",
      "++ Matriz homogenea  1\n",
      "[[1. 0. 0. 1.]\n",
      " [0. 1. 0. 0.]\n",
      " [0. 0. 1. 0.]\n",
      " [0. 0. 0. 1.]]\n",
      "++ Matriz homogenea  2\n",
      "[[1. 0. 0. 2.]\n",
      " [0. 1. 0. 0.]\n",
      " [0. 0. 1. 0.]\n",
      " [0. 0. 0. 1.]]\n",
      "p0 = (0.0,0.0)\n",
      "p1 = (1.0,0.0)\n",
      "p2 = (2.0,0.0)\n"
     ]
    }
   ],
   "source": [
    "import matplotlib.pyplot as plt\n",
    "x =[0.0]\n",
    "y =[0.0]\n",
    "config_1={\"theta_1\":0.,\n",
    "          \"theta_2\":0.}\n",
    "\n",
    "dh_matrix= getDHmatrix(**config_1)\n",
    "configurations = getConfiguration(dh_matrix)\n",
    "homogen = np.identity(4) #inicializa a matriz identidade\n",
    "\n",
    "print(\"++ Matriz homogenea 0\")\n",
    "print(homogen)\n",
    "for config in configurations:\n",
    "    print(\"++ Matriz homogenea \",config['joint'])\n",
    "    homogen = homogen@config['matrix']\n",
    "    print(homogen)\n",
    "    x.append(homogen[0,3])\n",
    "    y.append(homogen[1,3])\n",
    "\n",
    "for i,val in enumerate(x):\n",
    "    print(\"p{} = ({},{})\".format(i,val,y[i]))\n",
    "\n",
    "plt.plot(x,y,marker='o')\n",
    "plt.title(\"Item A(teste)\")\n",
    "plt.xlabel('x [m]')\n",
    "plt.ylabel('y [m]')\n",
    "plt.grid()"
   ]
  },
  {
   "cell_type": "markdown",
   "metadata": {},
   "source": [
    "E, por fim calculando para as variáveis $\\theta_1 = 30^\\mathrm{o}$ e $\\theta_2 = 45^\\mathrm{o}$:"
   ]
  },
  {
   "cell_type": "code",
   "execution_count": 5,
   "metadata": {},
   "outputs": [
    {
     "name": "stdout",
     "output_type": "stream",
     "text": [
      "p0 = (0.0,0.0)\n",
      "p1 = (0.8660254037844387,0.49999999999999994)\n",
      "p2 = (1.1248444488869596,1.4659258262890682)\n"
     ]
    },
    {
     "data": {
      "image/png": "[encoded data removed]",
      "text/plain": [
       "<Figure size 432x288 with 1 Axes>"
      ]
     },
     "metadata": {
      "needs_background": "light"
     },
     "output_type": "display_data"
    }
   ],
   "source": [
    "x =[0.0]\n",
    "y =[0.0]\n",
    "config_1={\"theta_1\":30.,\n",
    "          \"theta_2\":45.}\n",
    "\n",
    "dh_matrix= getDHmatrix(**config_1)\n",
    "configurations = getConfiguration(dh_matrix)\n",
    "homogen = np.identity(4) #inicializa a matriz identidade\n",
    "for config in configurations:\n",
    "    homogen = homogen@config['matrix']\n",
    "    x.append(homogen[0,3])\n",
    "    y.append(homogen[1,3])\n",
    "\n",
    "for i,val in enumerate(x):\n",
    "    print(\"p{} = ({},{})\".format(i,val,y[i]))\n",
    "\n",
    "fig = plt.plot(x,y,marker='o')\n",
    "plt.title(\"Item A\")\n",
    "plt.xlabel('x [m]')\n",
    "plt.ylabel('y [m]')\n",
    "plt.grid()"
   ]
  },
  {
   "cell_type": "markdown",
   "metadata": {},
   "source": [
    "As coordenadas obtidas foram:\n",
    "\n",
    "|Junta| x | y |\n",
    "|-|-|-|\n",
    "| Origem | 0.000| 0.000|\n",
    "| 1 | 0.866 | 0.500 |\n",
    "| 2 | 1.125 | 1.466 |\n",
    "\n",
    "Sendo a coordenada do efetuador $(x,y)=(1.125 , 1.466)$."
   ]
  },
  {
   "cell_type": "markdown",
   "metadata": {},
   "source": [
    "### Item B\n",
    "Para o item B utilizaremos as coordenadas obtidas anteriormente e plotaremos as soluções tal como anteriormente realizado:"
   ]
  },
  {
   "cell_type": "code",
   "execution_count": 6,
   "metadata": {},
   "outputs": [
    {
     "name": "stdout",
     "output_type": "stream",
     "text": [
      "(x,y) = (1.1248444488869596,1.4659258262890682)\n",
      "Solution 1:\n",
      "  theta1 = 29.999999999999996\n",
      "  theta2 = 45.00000000000001\n",
      "Solution 2:\n",
      "  theta1 = 75.0\n",
      "  theta2 = -45.00000000000001\n"
     ]
    }
   ],
   "source": [
    "val_x = x[-1]\n",
    "val_y = y[-1]\n",
    "print(\"(x,y) = ({},{})\".format(val_x,val_y))\n",
    "\n",
    "results = getThetas(a1=1,a2=1,x=val_x,y=val_y)\n",
    "\n",
    "for solution,res in enumerate(results):\n",
    "    print(\"Solution {}:\\n  theta1 = {}\\n  theta2 = {}\".format(solution+1,res['theta_1'],res['theta_2']))"
   ]
  },
  {
   "cell_type": "markdown",
   "metadata": {},
   "source": [
    "Obitvemos então as seguintes soluções:\n",
    "\n",
    "\n",
    "|Solução| $\\theta_1$ | $\\theta_2$ |\n",
    "|-|-|-|\n",
    "| 1 | 29.999 $^\\mathrm{o}$ | 45.000 $^\\mathrm{o}$ |\n",
    "| 2 | 75.0 $^\\mathrm{o}$ | -45.000 $^\\mathrm{o}$ |\n",
    "\n",
    "De maneira gráfica podemos notar a semelhança:"
   ]
  },
  {
   "cell_type": "code",
   "execution_count": 7,
   "metadata": {},
   "outputs": [
    {
     "data": {
      "image/png": "[encoded data removed]",
      "text/plain": [
       "<Figure size 432x288 with 1 Axes>"
      ]
     },
     "metadata": {
      "needs_background": "light"
     },
     "output_type": "display_data"
    }
   ],
   "source": [
    "x =[0.0]\n",
    "y =[0.0]\n",
    "config_1={\"theta_1\":30.,\n",
    "          \"theta_2\":45.}\n",
    "\n",
    "configurations = getConfiguration(getDHmatrix(**config_1))\n",
    "homogen = np.identity(4) #inicializa a matriz identidade\n",
    "for config in configurations:\n",
    "    homogen = homogen@config['matrix']\n",
    "    x.append(homogen[0,3])\n",
    "    y.append(homogen[1,3])\n",
    "\n",
    "plt.plot(x,y,marker='o',linewidth=4, label='direta')\n",
    "\n",
    "for solution,res in enumerate(results):\n",
    "    x =[0.0]\n",
    "    y =[0.0]\n",
    "    configurations = getConfiguration(getDHmatrix(**res))\n",
    "    homogen = np.identity(4) #inicializa a matriz identidade\n",
    "    for config in configurations:\n",
    "        homogen = homogen@config['matrix']\n",
    "        x.append(homogen[0,3])\n",
    "        y.append(homogen[1,3])\n",
    "    plt.plot(x,y,marker='o',linestyle='--',label='inversa {}'.format(solution+1))\n",
    "plt.legend()\n",
    "plt.title(\"Item B e C\")\n",
    "plt.xlabel('x [m]')\n",
    "plt.ylabel('y [m]')\n",
    "plt.grid()"
   ]
  },
  {
   "cell_type": "markdown",
   "metadata": {},
   "source": [
    "Duas soluções foram encontradas, mas apenas a solução 1 foi semelhante à obtida pelo metodo direto."
   ]
  },
  {
   "cell_type": "markdown",
   "metadata": {},
   "source": [
    "## Exercício 3\n",
    "Para o terceiro exercício, a estrutura do robô é semelhante, exceto pelo fato de que o elo entre a junta 1 e a junta 2 agora é uma junta de tipo prismática.\n",
    "<img src=./Exercicio_7/img/ex_3.png>\n",
    "\n",
    "De forma semelhante ao exercício anterior obtemos as soluções para as variáveis de junta por meio das equações:\n",
    "$$\\theta_1 = \\arctan\\left(\\frac{y - a_2\\sin{\\varphi}}{x- a_2\\sin\\varphi} \\right)$$\n",
    "$$a_2 = \\sqrt{(x - a_2\\sin{\\varphi})^2+(y - a_2\\sin{\\varphi})^2}$$\n",
    "$$\\theta_2 =\\varphi - \\theta_1$$\n",
    "\n",
    "Assim criamos funções para calcular as soluções:"
   ]
  },
  {
   "cell_type": "code",
   "execution_count": 8,
   "metadata": {},
   "outputs": [],
   "source": [
    "import numpy as np\n",
    "def getTheta1(x,y,a2=1,phi=0):\n",
    "    u = y - a2*np.sin(phi)\n",
    "    d = x - a2*np.cos(phi)\n",
    "    theta1 = np.arctan(u/d)\n",
    "    return theta1\n",
    "\n",
    "def getA1(x,y,a2=1,phi=0):\n",
    "    a1 = np.sqrt(np.square(x - a2*np.sin(phi))+np.square(y - a2*np.cos(phi)))\n",
    "    return a1\n",
    "\n",
    "def getTheta2(theta1=0,phi=0):\n",
    "    theta2 = phi-theta1\n",
    "    return theta2\n",
    "    \n",
    "def getSolution(x,y,a2=1,phi=0,unit='deg'):\n",
    "    values = []\n",
    "    if(unit=='deg'): phi=np.radians(phi)\n",
    "    tht1 = getTheta1(x,y,a2,phi)\n",
    "    a1 = getA1(x,y,a2,phi)\n",
    "    tht2 = getTheta2(tht1,phi)\n",
    "    if(unit=='rad'): values.append({\"a_1\":a1,\"theta_1\":tht1,\"theta_2\":tht2})\n",
    "    else: values.append({\"a_1\":a1,\"theta_1\":np.degrees(tht1),\"theta_2\":np.degrees(tht2)})\n",
    "    return values"
   ]
  },
  {
   "cell_type": "markdown",
   "metadata": {},
   "source": [
    "Para cada um dos items, por meio dos pontos descritos na tabela a seguir, é calculada a solução:\n",
    "\n",
    "|Solução| $P_{ef}$ | $\\varphi$ |\n",
    "|-|-|-|\n",
    "| A |(1.0,1.0) | 60$^\\mathrm{o}$ |\n",
    "| B |(0.7,0.8) | 30$^\\mathrm{o}$ |\n",
    "| C |(1.0,1.0) | 120$^\\mathrm{o}$ |\n",
    "| D |(0.5,0.5) | -45$^\\mathrm{o}$ |"
   ]
  },
  {
   "cell_type": "code",
   "execution_count": 9,
   "metadata": {},
   "outputs": [
    {
     "name": "stdout",
     "output_type": "stream",
     "text": [
      "Solution A:\n",
      "  a_1 = 0.9401992321926036\n",
      "  theta1 = 37.08866308098692\n",
      "  theta2 = 22.911336919013078\n",
      "Solution B:\n",
      "  a_1 = 0.5806717463183904\n",
      "  theta1 = 64.1066053508691\n",
      "  theta2 = -34.1066053508691\n",
      "Solution C:\n",
      "  a_1 = 1.3725795409430963\n",
      "  theta1 = 24.398561155330487\n",
      "  theta2 = 95.6014388446695\n",
      "Solution D:\n",
      "  a_1 = 0.8660254037844386\n",
      "  theta1 = 80.26438968275465\n",
      "  theta2 = -125.26438968275465\n"
     ]
    }
   ],
   "source": [
    "results = []\n",
    "# Item A\n",
    "res = getSolution(x=1.,y=1.,a2=.5,phi=60.)[0]\n",
    "item = 'A'\n",
    "results.append({\"item\": item,\n",
    "               \"solution\":res})\n",
    "print(\"Solution {}:\\n  a_1 = {}\\n  theta1 = {}\\n  theta2 = {}\".format(item,\n",
    "                                                                      res['a_1'],\n",
    "                                                                      res['theta_1'],\n",
    "                                                                      res['theta_2']))\n",
    "\n",
    "# Item B\n",
    "res = getSolution(x=0.7,y=0.8,a2=.5,phi=30.)[0]\n",
    "item = 'B'\n",
    "results.append({\"item\": item,\n",
    "               \"solution\":res})\n",
    "print(\"Solution {}:\\n  a_1 = {}\\n  theta1 = {}\\n  theta2 = {}\".format(item,\n",
    "                                                                      res['a_1'],\n",
    "                                                                      res['theta_1'],\n",
    "                                                                      res['theta_2']))\n",
    "# Item C\n",
    "res = getSolution(x=1.,y=1.,a2=.5,phi=120.)[0]\n",
    "item = 'C'\n",
    "results.append({\"item\": item,\n",
    "               \"solution\":res})\n",
    "print(\"Solution {}:\\n  a_1 = {}\\n  theta1 = {}\\n  theta2 = {}\".format(item,\n",
    "                                                                      res['a_1'],\n",
    "                                                                      res['theta_1'],\n",
    "                                                                      res['theta_2']))\n",
    "# Item C\n",
    "res = getSolution(x=.5,y=.5,a2=.5,phi=-45.)[0]\n",
    "item = 'D'\n",
    "results.append({\"item\": item,\n",
    "               \"solution\":res})\n",
    "print(\"Solution {}:\\n  a_1 = {}\\n  theta1 = {}\\n  theta2 = {}\".format(item,\n",
    "                                                                      res['a_1'],\n",
    "                                                                      res['theta_1'],\n",
    "                                                                      res['theta_2']))"
   ]
  },
  {
   "cell_type": "markdown",
   "metadata": {},
   "source": [
    "Obtendo então as seguintes soluções:\n",
    "\n",
    "|Solução| a$_1$| $\\theta_1$ | $\\theta_2$ |\n",
    "|-|-|-|-|\n",
    "| A |0.940 |37.089 $^\\mathrm{o}$ | 22.911 $^\\mathrm{o}$ |\n",
    "| B |0.581 |64.107 $^\\mathrm{o}$ | -34.107 $^\\mathrm{o}$ |\n",
    "| C |1.373 |24.399 $^\\mathrm{o}$ | 95.601 $^\\mathrm{o}$ |\n",
    "| D |0.866 |80.264 $^\\mathrm{o}$ | -125.264 $^\\mathrm{o}$ |"
   ]
  },
  {
   "cell_type": "markdown",
   "metadata": {},
   "source": [
    "Por fim, para plotar as soluções, criamos a tabela de Denavit-Hartenberg e realizamos o processo utilizado anteriormente."
   ]
  },
  {
   "cell_type": "code",
   "execution_count": 10,
   "metadata": {},
   "outputs": [],
   "source": [
    "def getDHmatrix(a_1=1,\n",
    "                theta_1=-45,\n",
    "                theta_2=0):\n",
    "    dh_mat=np.array([\n",
    "        [ 0 , 0 , 0 ,theta_1 ],\n",
    "        [ a_1 , 0 , 0, 0 ],\n",
    "        [ 0.5 , 0 , 0 , theta_2 ]\n",
    "    ])\n",
    "    \n",
    "    return dh_mat"
   ]
  },
  {
   "cell_type": "markdown",
   "metadata": {},
   "source": [
    "Os plots são então:"
   ]
  },
  {
   "cell_type": "code",
   "execution_count": 11,
   "metadata": {
    "scrolled": false
   },
   "outputs": [
    {
     "data": {
      "image/png": "[encoded data removed]",
      "text/plain": [
       "<Figure size 432x288 with 1 Axes>"
      ]
     },
     "metadata": {
      "needs_background": "light"
     },
     "output_type": "display_data"
    },
    {
     "data": {
      "image/png": "[encoded data removed]",
      "text/plain": [
       "<Figure size 432x288 with 1 Axes>"
      ]
     },
     "metadata": {
      "needs_background": "light"
     },
     "output_type": "display_data"
    },
    {
     "data": {
      "image/png": "[encoded data removed]",
      "text/plain": [
       "<Figure size 432x288 with 1 Axes>"
      ]
     },
     "metadata": {
      "needs_background": "light"
     },
     "output_type": "display_data"
    },
    {
     "data": {
      "image/png": "[encoded data removed]",
      "text/plain": [
       "<Figure size 432x288 with 1 Axes>"
      ]
     },
     "metadata": {
      "needs_background": "light"
     },
     "output_type": "display_data"
    }
   ],
   "source": [
    "for idx,res in enumerate(results):\n",
    "    fig = plt.figure()\n",
    "    item = res[\"item\"]\n",
    "    solution = res['solution']\n",
    "    x =[0.0]\n",
    "    y =[0.0]\n",
    "    configurations = getConfiguration(getDHmatrix(**solution))\n",
    "    homogen = np.identity(4) #inicializa a matriz identidade\n",
    "    for config in configurations:\n",
    "        homogen = homogen@config['matrix']\n",
    "        x.append(homogen[0,3])\n",
    "        y.append(homogen[1,3])\n",
    "    prop_text=\"a$_1$\"+\" = {:.3f}\\n\".format(solution['a_1'])+\\\n",
    "              r\"$\\theta_1$\"+\" = {:.3f}\\n\".format(solution['theta_1'])+\\\n",
    "              r\"$\\theta_2$\"+\" = {:.3f}\".format(solution['theta_2'])\n",
    "    props = dict(boxstyle='square', alpha=1.,facecolor='white')\n",
    "    plt.plot(x,y,marker='o',label=\"a\",color='C{}'.format(idx))\n",
    "    plt.title('Item {}'.format(item))\n",
    "    plt.grid()\n",
    "    plt.text(plt.xlim()[1]*1.03,plt.ylim()[1]*0.75,prop_text,bbox=props,fontsize=12)\n",
    "    plt.xlabel('x [m]')\n",
    "    plt.ylabel('y [m]')\n"
   ]
  }
 ],
 "metadata": {
  "author": "Danilo Calhes Paixão dos Santos",
  "kernelspec": {
   "display_name": "Python 3",
   "language": "python",
   "name": "python3"
  },
  "language_info": {
   "codemirror_mode": {
    "name": "ipython",
    "version": 3
   },
   "file_extension": ".py",
   "mimetype": "text/x-python",
   "name": "python",
   "nbconvert_exporter": "python",
   "pygments_lexer": "ipython3",
   "version": "3.5.9"
  },
  "title": "Atividade 7"
 },
 "nbformat": 4,
 "nbformat_minor": 4
}
